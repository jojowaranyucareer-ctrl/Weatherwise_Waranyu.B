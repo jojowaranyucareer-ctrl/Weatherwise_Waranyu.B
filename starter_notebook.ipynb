{
  "cells": [
    {
      "cell_type": "markdown",
      "metadata": {
        "id": "view-in-github",
        "colab_type": "text"
      },
      "source": [
        "<a href=\"https://colab.research.google.com/github/jojowaranyucareer-ctrl/Weatherwise_Waranyu.B/blob/main/starter_notebook.ipynb\" target=\"_parent\"><img src=\"https://colab.research.google.com/assets/colab-badge.svg\" alt=\"Open In Colab\"/></a>"
      ]
    },
    {
      "cell_type": "markdown",
      "id": "72e78a05",
      "metadata": {
        "id": "72e78a05"
      },
      "source": [
        "# 🌦️ WeatherWise – Starter Notebook\n",
        "\n",
        "Welcome to your **WeatherWise** project notebook! This scaffold is designed to help you build your weather advisor app using Python, visualisations, and AI-enhanced development.\n",
        "\n",
        "---\n",
        "\n",
        "📄 **Full Assignment Specification**  \n",
        "See [`ASSIGNMENT.md`](ASSIGNMENT.md) or check the LMS for full details.\n",
        "\n",
        "📝 **Quick Refresher**  \n",
        "A one-page summary is available in [`resources/assignment-summary.md`](resources/assignment-summary.md).\n",
        "\n",
        "---\n",
        "\n",
        "🧠 **This Notebook Structure is Optional**  \n",
        "You’re encouraged to reorganise, rename sections, or remove scaffold cells if you prefer — as long as your final version meets the requirements.\n",
        "\n",
        "✅ You may delete this note before submission.\n",
        "\n"
      ]
    },
    {
      "cell_type": "markdown",
      "id": "fa8c7f6c",
      "metadata": {
        "id": "fa8c7f6c"
      },
      "source": [
        "## 🧰 Setup and Imports\n",
        "\n",
        "This section imports commonly used packages and installs any additional tools used in the project.\n",
        "\n",
        "- You may not need all of these unless you're using specific features (e.g. visualisations, advanced prompting).\n",
        "- The notebook assumes the following packages are **pre-installed** in the provided environment or installable via pip:\n",
        "  - `requests`, `matplotlib`, `pyinputplus`\n",
        "  - `fetch-my-weather` (for accessing weather data easily)\n",
        "  - `hands-on-ai` (for AI logging, comparisons, or prompting tools)\n",
        "\n",
        "If you're running this notebook in **Google Colab**, uncomment the following lines to install the required packages.\n"
      ]
    },
    {
      "cell_type": "code",
      "execution_count": 20,
      "id": "70c3f3f1",
      "metadata": {
        "id": "70c3f3f1",
        "colab": {
          "base_uri": "https://localhost:8080/"
        },
        "outputId": "6902655e-109d-4014-9b21-52fcc930b282"
      },
      "outputs": [
        {
          "output_type": "stream",
          "name": "stdout",
          "text": [
            "Requirement already satisfied: hands-on-ai in /usr/local/lib/python3.12/dist-packages (0.2.1)\n",
            "Requirement already satisfied: requests in /usr/local/lib/python3.12/dist-packages (from hands-on-ai) (2.32.4)\n",
            "Requirement already satisfied: typer in /usr/local/lib/python3.12/dist-packages (from hands-on-ai) (0.19.2)\n",
            "Requirement already satisfied: python-fasthtml in /usr/local/lib/python3.12/dist-packages (from hands-on-ai) (0.12.29)\n",
            "Requirement already satisfied: python-docx in /usr/local/lib/python3.12/dist-packages (from hands-on-ai) (1.2.0)\n",
            "Requirement already satisfied: pymupdf in /usr/local/lib/python3.12/dist-packages (from hands-on-ai) (1.26.5)\n",
            "Requirement already satisfied: scikit-learn in /usr/local/lib/python3.12/dist-packages (from hands-on-ai) (1.6.1)\n",
            "Requirement already satisfied: numpy in /usr/local/lib/python3.12/dist-packages (from hands-on-ai) (2.0.2)\n",
            "Requirement already satisfied: instructor>=1.11.0 in /usr/local/lib/python3.12/dist-packages (from hands-on-ai) (1.11.3)\n",
            "Requirement already satisfied: pydantic>=2.0 in /usr/local/lib/python3.12/dist-packages (from hands-on-ai) (2.11.10)\n",
            "Requirement already satisfied: aiohttp<4.0.0,>=3.9.1 in /usr/local/lib/python3.12/dist-packages (from instructor>=1.11.0->hands-on-ai) (3.13.0)\n",
            "Requirement already satisfied: diskcache>=5.6.3 in /usr/local/lib/python3.12/dist-packages (from instructor>=1.11.0->hands-on-ai) (5.6.3)\n",
            "Requirement already satisfied: docstring-parser<1.0,>=0.16 in /usr/local/lib/python3.12/dist-packages (from instructor>=1.11.0->hands-on-ai) (0.17.0)\n",
            "Requirement already satisfied: jinja2<4.0.0,>=3.1.4 in /usr/local/lib/python3.12/dist-packages (from instructor>=1.11.0->hands-on-ai) (3.1.6)\n",
            "Requirement already satisfied: jiter<0.11,>=0.6.1 in /usr/local/lib/python3.12/dist-packages (from instructor>=1.11.0->hands-on-ai) (0.10.0)\n",
            "Requirement already satisfied: openai<2.0.0,>=1.70.0 in /usr/local/lib/python3.12/dist-packages (from instructor>=1.11.0->hands-on-ai) (1.109.1)\n",
            "Requirement already satisfied: pydantic-core<3.0.0,>=2.18.0 in /usr/local/lib/python3.12/dist-packages (from instructor>=1.11.0->hands-on-ai) (2.33.2)\n",
            "Requirement already satisfied: rich<15.0.0,>=13.7.0 in /usr/local/lib/python3.12/dist-packages (from instructor>=1.11.0->hands-on-ai) (13.9.4)\n",
            "Requirement already satisfied: tenacity<10.0.0,>=8.2.3 in /usr/local/lib/python3.12/dist-packages (from instructor>=1.11.0->hands-on-ai) (8.5.0)\n",
            "Requirement already satisfied: annotated-types>=0.6.0 in /usr/local/lib/python3.12/dist-packages (from pydantic>=2.0->hands-on-ai) (0.7.0)\n",
            "Requirement already satisfied: typing-extensions>=4.12.2 in /usr/local/lib/python3.12/dist-packages (from pydantic>=2.0->hands-on-ai) (4.15.0)\n",
            "Requirement already satisfied: typing-inspection>=0.4.0 in /usr/local/lib/python3.12/dist-packages (from pydantic>=2.0->hands-on-ai) (0.4.2)\n",
            "Requirement already satisfied: charset_normalizer<4,>=2 in /usr/local/lib/python3.12/dist-packages (from requests->hands-on-ai) (3.4.4)\n",
            "Requirement already satisfied: idna<4,>=2.5 in /usr/local/lib/python3.12/dist-packages (from requests->hands-on-ai) (3.11)\n",
            "Requirement already satisfied: urllib3<3,>=1.21.1 in /usr/local/lib/python3.12/dist-packages (from requests->hands-on-ai) (2.5.0)\n",
            "Requirement already satisfied: certifi>=2017.4.17 in /usr/local/lib/python3.12/dist-packages (from requests->hands-on-ai) (2025.10.5)\n",
            "Requirement already satisfied: click>=8.0.0 in /usr/local/lib/python3.12/dist-packages (from typer->hands-on-ai) (8.3.0)\n",
            "Requirement already satisfied: shellingham>=1.3.0 in /usr/local/lib/python3.12/dist-packages (from typer->hands-on-ai) (1.5.4)\n",
            "Requirement already satisfied: lxml>=3.1.0 in /usr/local/lib/python3.12/dist-packages (from python-docx->hands-on-ai) (5.4.0)\n",
            "Requirement already satisfied: fastcore>=1.8.1 in /usr/local/lib/python3.12/dist-packages (from python-fasthtml->hands-on-ai) (1.8.12)\n",
            "Requirement already satisfied: python-dateutil in /usr/local/lib/python3.12/dist-packages (from python-fasthtml->hands-on-ai) (2.9.0.post0)\n",
            "Requirement already satisfied: starlette>0.33 in /usr/local/lib/python3.12/dist-packages (from python-fasthtml->hands-on-ai) (0.48.0)\n",
            "Requirement already satisfied: oauthlib in /usr/local/lib/python3.12/dist-packages (from python-fasthtml->hands-on-ai) (3.3.1)\n",
            "Requirement already satisfied: itsdangerous in /usr/local/lib/python3.12/dist-packages (from python-fasthtml->hands-on-ai) (2.2.0)\n",
            "Requirement already satisfied: uvicorn>=0.30 in /usr/local/lib/python3.12/dist-packages (from uvicorn[standard]>=0.30->python-fasthtml->hands-on-ai) (0.37.0)\n",
            "Requirement already satisfied: httpx in /usr/local/lib/python3.12/dist-packages (from python-fasthtml->hands-on-ai) (0.28.1)\n",
            "Requirement already satisfied: fastlite>=0.1.1 in /usr/local/lib/python3.12/dist-packages (from python-fasthtml->hands-on-ai) (0.2.1)\n",
            "Requirement already satisfied: python-multipart in /usr/local/lib/python3.12/dist-packages (from python-fasthtml->hands-on-ai) (0.0.20)\n",
            "Requirement already satisfied: beautifulsoup4 in /usr/local/lib/python3.12/dist-packages (from python-fasthtml->hands-on-ai) (4.13.5)\n",
            "Requirement already satisfied: scipy>=1.6.0 in /usr/local/lib/python3.12/dist-packages (from scikit-learn->hands-on-ai) (1.16.2)\n",
            "Requirement already satisfied: joblib>=1.2.0 in /usr/local/lib/python3.12/dist-packages (from scikit-learn->hands-on-ai) (1.5.2)\n",
            "Requirement already satisfied: threadpoolctl>=3.1.0 in /usr/local/lib/python3.12/dist-packages (from scikit-learn->hands-on-ai) (3.6.0)\n",
            "Requirement already satisfied: aiohappyeyeballs>=2.5.0 in /usr/local/lib/python3.12/dist-packages (from aiohttp<4.0.0,>=3.9.1->instructor>=1.11.0->hands-on-ai) (2.6.1)\n",
            "Requirement already satisfied: aiosignal>=1.4.0 in /usr/local/lib/python3.12/dist-packages (from aiohttp<4.0.0,>=3.9.1->instructor>=1.11.0->hands-on-ai) (1.4.0)\n",
            "Requirement already satisfied: attrs>=17.3.0 in /usr/local/lib/python3.12/dist-packages (from aiohttp<4.0.0,>=3.9.1->instructor>=1.11.0->hands-on-ai) (25.4.0)\n",
            "Requirement already satisfied: frozenlist>=1.1.1 in /usr/local/lib/python3.12/dist-packages (from aiohttp<4.0.0,>=3.9.1->instructor>=1.11.0->hands-on-ai) (1.8.0)\n",
            "Requirement already satisfied: multidict<7.0,>=4.5 in /usr/local/lib/python3.12/dist-packages (from aiohttp<4.0.0,>=3.9.1->instructor>=1.11.0->hands-on-ai) (6.7.0)\n",
            "Requirement already satisfied: propcache>=0.2.0 in /usr/local/lib/python3.12/dist-packages (from aiohttp<4.0.0,>=3.9.1->instructor>=1.11.0->hands-on-ai) (0.4.1)\n",
            "Requirement already satisfied: yarl<2.0,>=1.17.0 in /usr/local/lib/python3.12/dist-packages (from aiohttp<4.0.0,>=3.9.1->instructor>=1.11.0->hands-on-ai) (1.22.0)\n",
            "Requirement already satisfied: packaging in /usr/local/lib/python3.12/dist-packages (from fastcore>=1.8.1->python-fasthtml->hands-on-ai) (25.0)\n",
            "Requirement already satisfied: apswutils>=0.1.0 in /usr/local/lib/python3.12/dist-packages (from fastlite>=0.1.1->python-fasthtml->hands-on-ai) (0.1.0)\n",
            "Requirement already satisfied: MarkupSafe>=2.0 in /usr/local/lib/python3.12/dist-packages (from jinja2<4.0.0,>=3.1.4->instructor>=1.11.0->hands-on-ai) (3.0.3)\n",
            "Requirement already satisfied: anyio<5,>=3.5.0 in /usr/local/lib/python3.12/dist-packages (from openai<2.0.0,>=1.70.0->instructor>=1.11.0->hands-on-ai) (4.11.0)\n",
            "Requirement already satisfied: distro<2,>=1.7.0 in /usr/local/lib/python3.12/dist-packages (from openai<2.0.0,>=1.70.0->instructor>=1.11.0->hands-on-ai) (1.9.0)\n",
            "Requirement already satisfied: sniffio in /usr/local/lib/python3.12/dist-packages (from openai<2.0.0,>=1.70.0->instructor>=1.11.0->hands-on-ai) (1.3.1)\n",
            "Requirement already satisfied: tqdm>4 in /usr/local/lib/python3.12/dist-packages (from openai<2.0.0,>=1.70.0->instructor>=1.11.0->hands-on-ai) (4.67.1)\n",
            "Requirement already satisfied: httpcore==1.* in /usr/local/lib/python3.12/dist-packages (from httpx->python-fasthtml->hands-on-ai) (1.0.9)\n",
            "Requirement already satisfied: h11>=0.16 in /usr/local/lib/python3.12/dist-packages (from httpcore==1.*->httpx->python-fasthtml->hands-on-ai) (0.16.0)\n",
            "Requirement already satisfied: markdown-it-py>=2.2.0 in /usr/local/lib/python3.12/dist-packages (from rich<15.0.0,>=13.7.0->instructor>=1.11.0->hands-on-ai) (4.0.0)\n",
            "Requirement already satisfied: pygments<3.0.0,>=2.13.0 in /usr/local/lib/python3.12/dist-packages (from rich<15.0.0,>=13.7.0->instructor>=1.11.0->hands-on-ai) (2.19.2)\n",
            "Requirement already satisfied: httptools>=0.6.3 in /usr/local/lib/python3.12/dist-packages (from uvicorn[standard]>=0.30->python-fasthtml->hands-on-ai) (0.7.1)\n",
            "Requirement already satisfied: python-dotenv>=0.13 in /usr/local/lib/python3.12/dist-packages (from uvicorn[standard]>=0.30->python-fasthtml->hands-on-ai) (1.1.1)\n",
            "Requirement already satisfied: pyyaml>=5.1 in /usr/local/lib/python3.12/dist-packages (from uvicorn[standard]>=0.30->python-fasthtml->hands-on-ai) (6.0.3)\n",
            "Requirement already satisfied: uvloop>=0.15.1 in /usr/local/lib/python3.12/dist-packages (from uvicorn[standard]>=0.30->python-fasthtml->hands-on-ai) (0.22.1)\n",
            "Requirement already satisfied: watchfiles>=0.13 in /usr/local/lib/python3.12/dist-packages (from uvicorn[standard]>=0.30->python-fasthtml->hands-on-ai) (1.1.1)\n",
            "Requirement already satisfied: websockets>=10.4 in /usr/local/lib/python3.12/dist-packages (from uvicorn[standard]>=0.30->python-fasthtml->hands-on-ai) (15.0.1)\n",
            "Requirement already satisfied: soupsieve>1.2 in /usr/local/lib/python3.12/dist-packages (from beautifulsoup4->python-fasthtml->hands-on-ai) (2.8)\n",
            "Requirement already satisfied: six>=1.5 in /usr/local/lib/python3.12/dist-packages (from python-dateutil->python-fasthtml->hands-on-ai) (1.17.0)\n",
            "Requirement already satisfied: apsw in /usr/local/lib/python3.12/dist-packages (from apswutils>=0.1.0->fastlite>=0.1.1->python-fasthtml->hands-on-ai) (3.50.4.0)\n",
            "Requirement already satisfied: mdurl~=0.1 in /usr/local/lib/python3.12/dist-packages (from markdown-it-py>=2.2.0->rich<15.0.0,>=13.7.0->instructor>=1.11.0->hands-on-ai) (0.1.2)\n",
            "Requirement already satisfied: pyinputplus in /usr/local/lib/python3.12/dist-packages (0.2.12)\n",
            "Requirement already satisfied: pysimplevalidate>=0.2.7 in /usr/local/lib/python3.12/dist-packages (from pyinputplus) (0.2.12)\n",
            "Requirement already satisfied: stdiomask>=0.0.3 in /usr/local/lib/python3.12/dist-packages (from pyinputplus) (0.0.6)\n"
          ]
        }
      ],
      "source": [
        "# # 🧪 Optional packages — uncomment if needed in Colab or JupyterHub\n",
        "!pip install hands-on-ai\n",
        "!pip install pyinputplus"
      ]
    },
    {
      "cell_type": "code",
      "execution_count": 21,
      "metadata": {
        "id": "9n1ruFK2H7yn",
        "colab": {
          "base_uri": "https://localhost:8080/"
        },
        "outputId": "eef48509-cf39-40b5-bbdd-d85b5868b052"
      },
      "outputs": [
        {
          "name": "stdout",
          "output_type": "stream",
          "text": [
            "Enter your API key for ollama : e6903b35e08f4227b3a4cbee5b836408\n",
            "Enter your API key for openweathermap : 3a10e176bbe73766db6e4d09a4bd96d0\n"
          ]
        }
      ],
      "source": [
        "import os\n",
        "\n",
        "# Configure your provider\n",
        "os.environ['HANDS_ON_AI_SERVER'] = 'https://ollama.serveur.au'\n",
        "os.environ['HANDS_ON_AI_MODEL'] = 'llama3.2'\n",
        "os.environ['HANDS_ON_AI_API_KEY'] = input('Enter your API key for ollama : ')  # get your own API at https://ollama.com/\n",
        "os.environ[\"OPENWEATHER_API_KEY\"] = input('Enter your API key for openweathermap : ')   # get your own at https://openweathermap.org/api\n",
        "\n",
        "# Uncomment this to test the server and API are working (if error the server maybe down or API is incorrect)\n",
        "# from hands_on_ai.chat import get_response\n",
        "# print(get_response(\"As a current weather in Australia, Perth today is 30 degrees celcius, with uv index of, and partial clouds, Can i play outddoor basketball?\"))"
      ],
      "id": "9n1ruFK2H7yn"
    },
    {
      "cell_type": "markdown",
      "id": "59ae7543",
      "metadata": {
        "id": "59ae7543"
      },
      "source": [
        "## 📦 Setup and Configuration\n",
        "Import required packages and setup environment."
      ]
    },
    {
      "cell_type": "code",
      "execution_count": 22,
      "id": "f1dd051e",
      "metadata": {
        "id": "f1dd051e"
      },
      "outputs": [],
      "source": [
        "import requests\n",
        "import matplotlib.pyplot as plt\n",
        "import pyinputplus as pyip\n",
        "from hands_on_ai.chat import get_response\n",
        "import os\n",
        "import re\n",
        "from typing import Dict, Any, List, Optional, Tuple, Union, TypedDict\n",
        "import requests\n",
        "import matplotlib.pyplot as plt\n",
        "import ipywidgets as widgets\n",
        "from IPython.display import display\n",
        "from datetime import datetime\n",
        "from collections import defaultdict"
      ]
    },
    {
      "cell_type": "markdown",
      "id": "f736ade3",
      "metadata": {
        "id": "f736ade3"
      },
      "source": [
        "## 🌤️ Weather Data Functions"
      ]
    },
    {
      "cell_type": "code",
      "execution_count": 23,
      "id": "7a2c7cd0",
      "metadata": {
        "id": "7a2c7cd0"
      },
      "outputs": [],
      "source": [
        "# Define get_weather_data() function here\n",
        "class ParsedWeather(TypedDict, total=False):\n",
        "    location: str\n",
        "    forecast_days: int\n",
        "    error: Optional[str]\n",
        "    current: Dict[str, Any]\n",
        "    daily: List[Dict[str, Any]]\n",
        "\n",
        "\n",
        "def openWeather_getWeather(city: str, units: str = \"metric\"):\n",
        "    api_key = os.getenv(\"OPENWEATHER_API_KEY\")\n",
        "    if not api_key:\n",
        "            return None\n",
        "    try:\n",
        "            CITY = city\n",
        "            UNITS = units  # metric for °C or \"imperial\" for °F\n",
        "            # Step 1: Call the 5-day forecast API\n",
        "            url = f\"https://api.openweathermap.org/data/2.5/forecast?q={CITY}&appid={api_key}&units={UNITS}\"\n",
        "            response = requests.get(url)\n",
        "            data = response.json()\n",
        "            return data\n",
        "    except Exception as e:\n",
        "            print(f\"Error fetching weather data: {e}\")\n",
        "            return None\n",
        "\n",
        "\n",
        "def get_temps(data):\n",
        "        daily_temps = {}\n",
        "\n",
        "        for item in data[\"list\"]:\n",
        "                dt_txt = item[\"dt_txt\"] # e.g., '2025-10-16 03:00:00'\n",
        "                date_str = dt_txt.split(\" \")[0] # Just the date part\n",
        "                temp = item[\"main\"][\"temp\"]\n",
        "\n",
        "                if date_str not in daily_temps:\n",
        "                        daily_temps[date_str] = []\n",
        "\n",
        "                daily_temps[date_str].append(temp)\n",
        "\n",
        "        return daily_temps\n",
        "\n",
        "\n",
        "def get_weather_data(city: str, forecast_days: int = 5):\n",
        "    \"\"\"\n",
        "    Retrieve weather data for a specified location.\n",
        "\n",
        "    Args:\n",
        "            location (str): City or location name\n",
        "            forecast_days (int): Number of days to forecast (1-5)\n",
        "\n",
        "    Returns:\n",
        "            dict: Weather data including current conditions and forecast\n",
        "    \"\"\"\n",
        "    try:\n",
        "            response = openWeather_getWeather(city=city, units=\"metric\")\n",
        "            return response\n",
        "    except Exception as e:\n",
        "            response[\"error\"] = f\"Failed to fetch weather data: {e}\"\n",
        "            return response"
      ]
    },
    {
      "cell_type": "markdown",
      "id": "8a744fdc",
      "metadata": {
        "id": "8a744fdc"
      },
      "source": [
        "## 📊 Visualisation Functions"
      ]
    },
    {
      "cell_type": "code",
      "execution_count": 24,
      "id": "9dc3bf85",
      "metadata": {
        "id": "9dc3bf85"
      },
      "outputs": [],
      "source": [
        "# Define create_temperature_visualisation()\n",
        "def create_temperature_visualisation(weather_data: Dict[str, Any], num_days: int = 5, output_type: str = 'display'):\n",
        "        \"\"\"\n",
        "        Create visualisation of temperature data using average daily temperatures.\n",
        "\n",
        "        Args:\n",
        "                weather_data (dict): The processed weather data\n",
        "                num_days (int): The number of days to display in the chart.\n",
        "                output_type (str): Either 'display' to show in notebook or 'figure' to return the figure\n",
        "\n",
        "        Returns:\n",
        "                If output_type is 'figure', returns the matplotlib figure object\n",
        "                Otherwise, displays the visualisation in the notebook\n",
        "        \"\"\"\n",
        "\n",
        "        # get daily forecast data\n",
        "        daily = weather_data.get(\"list\", [])\n",
        "        if not daily:\n",
        "                print(\"No daily forecast data available to plot temperatures.\")\n",
        "                return None\n",
        "\n",
        "        daily_temps = get_temps(weather_data)\n",
        "        # Slice the data to include only the requested number of days\n",
        "        sliced_dates = list(daily_temps.keys())[:num_days]\n",
        "        sliced_temps = [sum(daily_temps[date]) / len(daily_temps[date]) if daily_temps[date] else 0 for date in sliced_dates]\n",
        "\n",
        "\n",
        "        fig, ax = plt.subplots()\n",
        "        ax.plot(sliced_dates, sliced_temps, marker='o', label='Average Temp (°C)')\n",
        "        ax.set_title(f\"Daily Average Temperature Forecast for {num_days} Days\")\n",
        "        ax.set_xlabel(\"Day\")\n",
        "        ax.set_ylabel(\"Temperature (°C)\")\n",
        "        ax.legend()\n",
        "        plt.xticks(rotation=45)\n",
        "        plt.tight_layout()\n",
        "\n",
        "        if output_type == 'figure':\n",
        "                return fig\n",
        "        else:\n",
        "                plt.show()\n",
        "                return None"
      ]
    },
    {
      "cell_type": "code",
      "source": [
        "# Define create_precipitation_visualisation() here\n",
        "\n",
        "def create_precipitation_visualisation(weather_data: Dict[str, Any], num_days: int = 5, output_type: str = 'display'):\n",
        "        \"\"\"\n",
        "        Create visualisation of precipitation data.\n",
        "\n",
        "        Args:\n",
        "                weather_data (dict): The processed weather data\n",
        "                num_days (int): The number of days to display in the chart.\n",
        "                output_type (str): Either 'display' to show in notebook or 'figure' to return the figure\n",
        "\n",
        "        Returns:\n",
        "                If output_type is 'figure', returns the matplotlib figure object\n",
        "                Otherwise, displays the visualisation in the notebook\n",
        "        \"\"\"\n",
        "        # OpenWeatherMap provides data in 3-hour intervals under the 'list' key\n",
        "        forecast_list = weather_data.get(\"list\", [])\n",
        "        if not forecast_list:\n",
        "                print(\"No forecast data available to plot precipitation.\")\n",
        "                return None\n",
        "\n",
        "        daily_precipitation = defaultdict(float)\n",
        "        date_labels = []\n",
        "\n",
        "        for item in forecast_list:\n",
        "            dt_txt = item[\"dt_txt\"] # e.g., '2025-10-16 03:00:00'\n",
        "            date_str = dt_txt.split(\" \")[0] # Just the date part\n",
        "\n",
        "            # Add date to labels if not already present (ensures unique daily labels)\n",
        "            if date_str not in date_labels:\n",
        "                date_labels.append(date_str)\n",
        "\n",
        "            # OpenWeatherMap uses 'rain' or 'snow' keys with a '3h' sub-key\n",
        "            # Total precipitation is the sum of rain and snow in the 3-hour period\n",
        "            precip_3h = item.get(\"rain\", {}).get(\"3h\", 0) + item.get(\"snow\", {}).get(\"3h\", 0)\n",
        "            daily_precipitation[date_str] += precip_3h # Accumulate precipitation for the day\n",
        "\n",
        "\n",
        "        # Sort the daily precipitation data by date\n",
        "        sorted_dates = sorted(daily_precipitation.keys())\n",
        "        sorted_precipitation_totals = [daily_precipitation[date] for date in sorted_dates]\n",
        "\n",
        "\n",
        "        # Format date labels for the plot\n",
        "        formatted_labels: List[str] = []\n",
        "        for date_str in sorted_dates:\n",
        "            try:\n",
        "                formatted_labels.append(datetime.strptime(date_str, \"%Y-%m-%d\").strftime(\"%a %d\"))\n",
        "            except Exception:\n",
        "                formatted_labels.append(date_str)\n",
        "\n",
        "\n",
        "        fig, ax = plt.subplots()\n",
        "        # Limit to the number of days specified by the user\n",
        "        num_days_to_plot = min(num_days, len(sorted_dates))\n",
        "        ax.bar(formatted_labels[:num_days_to_plot], sorted_precipitation_totals[:num_days_to_plot], color=\"#4e79a7\")\n",
        "        ax.set_title(f\"Daily Total Precipitation Forecast for {num_days_to_plot} Days\")\n",
        "        ax.set_xlabel(\"Day\")\n",
        "        ax.set_ylabel(\"Precipitation (mm)\")\n",
        "        plt.tight_layout()\n",
        "\n",
        "        if output_type == 'figure':\n",
        "                return fig\n",
        "        else:\n",
        "                plt.show()\n",
        "                return None"
      ],
      "metadata": {
        "id": "HpOlQylYG5Ho"
      },
      "id": "HpOlQylYG5Ho",
      "execution_count": 25,
      "outputs": []
    },
    {
      "cell_type": "markdown",
      "id": "9f95d160",
      "metadata": {
        "id": "9f95d160"
      },
      "source": [
        "## 🤖 Natural Language Processing"
      ]
    },
    {
      "cell_type": "code",
      "execution_count": 26,
      "id": "bcc5833e",
      "metadata": {
        "id": "bcc5833e"
      },
      "outputs": [],
      "source": [
        "# Define parse_weather_question() and generate_weather_response() here\n",
        "def parse_weather_question(question):\n",
        "    \"\"\"\n",
        "    Parse a natural language weather question.\n",
        "\n",
        "    Args:\n",
        "        question (str): User's weather-related question\n",
        "\n",
        "    Returns:\n",
        "        dict: Extracted information including location, time period, and weather attribute\n",
        "    \"\"\"\n",
        "    parsed_info = {\n",
        "        \"question\": question, # Keep the original question\n",
        "        \"location\": None,\n",
        "        \"time_period\": None, # e.g., \"today\", \"tomorrow\", \"next 5 days\"\n",
        "        \"weather_attribute\": None # e.g., \"temperature\", \"rain\", \"wind\"\n",
        "    }\n",
        "\n",
        "    # Basic location extraction (can be improved)\n",
        "    # Look for capitalized words that might be locations\n",
        "    words = question.split()\n",
        "    capitalized_words = [word for word in words if word and word[0].isupper()]\n",
        "    # This is a very simple approach and might not be accurate for all questions\n",
        "    if capitalized_words:\n",
        "        # Assume the first capitalized word is the location (a very rough heuristic)\n",
        "        parsed_info[\"location\"] = capitalized_words[0]\n",
        "\n",
        "    # Basic time period extraction (can be improved)\n",
        "    question_lower = question.lower()\n",
        "    if \"today\" in question_lower:\n",
        "        parsed_info[\"time_period\"] = \"today\"\n",
        "    elif \"tomorrow\" in question_lower:\n",
        "        parsed_info[\"time_period\"] = \"tomorrow\"\n",
        "    elif \"next\" in question_lower and \"day\" in question_lower:\n",
        "         # Attempt to extract number of days\n",
        "         match = re.search(r\"next\\s+(\\d+)\\s+days\", question_lower)\n",
        "         if match:\n",
        "              parsed_info[\"time_period\"] = f\"next {match.group(1)} days\"\n",
        "         else:\n",
        "              parsed_info[\"time_period\"] = \"next few days\" # Default if number not found\n",
        "\n",
        "    # Basic weather attribute extraction (can be improved)\n",
        "    if \"temperature\" in question_lower or \"how hot\" in question_lower or \"how cold\" in question_lower:\n",
        "        parsed_info[\"weather_attribute\"] = \"temperature\"\n",
        "    if \"rain\" in question_lower or \"precipitation\" in question_lower:\n",
        "        parsed_info[\"weather_attribute\"] = \"precipitation\"\n",
        "    if \"wind\" in question_lower or \"windy\" in question_lower:\n",
        "        parsed_info[\"weather_attribute\"] = \"wind\"\n",
        "\n",
        "\n",
        "    return parsed_info"
      ]
    },
    {
      "cell_type": "markdown",
      "id": "0d85225e",
      "metadata": {
        "id": "0d85225e"
      },
      "source": [
        "## 🧭 User Interface"
      ]
    },
    {
      "cell_type": "code",
      "execution_count": 27,
      "id": "fa6cb0f6",
      "metadata": {
        "id": "fa6cb0f6"
      },
      "outputs": [],
      "source": [
        "# Define menu functions using pyinputplus or ipywidgets here\n",
        "\n",
        "# Initialize global variables\n",
        "_LAST_WEATHER = None\n",
        "_LAST_LOCATION = None\n",
        "_LAST_FORECAST_DAYS = 5\n",
        "\n",
        "# --- Helper Function for Temperature Advice ---\n",
        "def get_temperature_advice(average_temp: float) -> str:\n",
        "    \"\"\"\n",
        "    Provides temperature-based advice.\n",
        "\n",
        "    Args:\n",
        "        average_temp (float): The average temperature in Celsius.\n",
        "\n",
        "    Returns:\n",
        "        str: Advice based on the temperature.\n",
        "    \"\"\"\n",
        "    if average_temp > 32:\n",
        "        return \"Advice: 🔥 It's scorching hot out there! Best to stay indoors and crank up the AC.\"\n",
        "    elif average_temp >= 27:\n",
        "        return \"Advice: ☀️ Feeling quite warm today! Light clothing and sunscreen are your friends.\"\n",
        "    elif average_temp >= 23:\n",
        "        return \"Advice: 👍 Perfect weather today! Enjoy your time outside!\"\n",
        "    elif average_temp >= 17:\n",
        "        return \"Advice: 🧣 A bit chilly! Don't forget a warm layer if you're heading out.\"\n",
        "    else: # Covers temperatures below 17\n",
        "        return \"Advice: 🥶 Brrr, it's freezing! Stay cozy inside and keep warm.\"\n",
        "\n",
        "\n",
        "# --- Button Click Handlers ---\n",
        "\n",
        "def on_fetch_button_clicked(b, location_input, days_input, output_area):\n",
        "    \"\"\"\n",
        "    Handles the click event for the \"Fetch Weather Forecast\" button.\n",
        "    Fetches weather data, displays current conditions, and provides temperature advice for today.\n",
        "    \"\"\"\n",
        "    with output_area:\n",
        "        # Clear previous output\n",
        "        output_area.clear_output()\n",
        "\n",
        "        # Access global variables for last fetched weather data and location\n",
        "        global _LAST_WEATHER, _LAST_LOCATION, _LAST_FORECAST_DAYS\n",
        "\n",
        "        # Get the location entered by the user\n",
        "        loc = location_input.value\n",
        "        if not loc:\n",
        "            print(\"⚠️ Please enter a location.\")\n",
        "            return\n",
        "\n",
        "        # Fetch weather data for the specified location\n",
        "        # Fetch 6 days as OpenWeatherMap provides 5-day forecast in 3-hour steps\n",
        "        days = 6\n",
        "        data = get_weather_data(loc, forecast_days=days)\n",
        "\n",
        "        # Store the fetched data and location in global variables\n",
        "        _LAST_WEATHER = data\n",
        "        _LAST_LOCATION = loc\n",
        "        _LAST_FORECAST_DAYS = days\n",
        "\n",
        "        # Check if weather data was successfully retrieved\n",
        "        if data and data.get(\"list\"):\n",
        "            # --- Display Current Weather Conditions ---\n",
        "            if data[\"list\"]:\n",
        "                current = data[\"list\"][0] # Get the first data point for current conditions\n",
        "                current_temp = current[\"main\"][\"temp\"]\n",
        "                current_description = current[\"weather\"][0][\"description\"]\n",
        "                humidity = current[\"main\"][\"humidity\"]\n",
        "                wind_speed = current[\"wind\"][\"speed\"]\n",
        "\n",
        "                print(f\"✨ Weather for {loc}: ✨\")\n",
        "                print(f\"🌡️ Currently: {current_temp:.1f}°C with {current_description}, 💧 Humidity: {humidity}%, 💨 Wind: {wind_speed} m/s\")\n",
        "\n",
        "            # --- Calculate and Display Today's Average Temperature and Advice ---\n",
        "            daily_temps = get_temps(data)\n",
        "            if daily_temps:\n",
        "                # Get the date for the first day (today)\n",
        "                first_day_date = list(daily_temps.keys())[0]\n",
        "                # Get all temperature readings for today\n",
        "                temps = daily_temps[first_day_date]\n",
        "                # Calculate the average temperature for today\n",
        "                average_temp = sum(temps) / len(temps) if temps else 0\n",
        "\n",
        "                print(f\"☀️ Average temperature for Today ({first_day_date}): {average_temp:.2f}°C\")\n",
        "                # Get and print temperature-based advice using the helper function\n",
        "                print(get_temperature_advice(average_temp))\n",
        "\n",
        "            else:\n",
        "                 print(\"😔 Could not retrieve daily temperature data for the specified location.\")\n",
        "\n",
        "        # Handle cases where weather data fetching failed\n",
        "        elif data and data.get(\"message\"):\n",
        "             print(f\"❌ Error fetching weather data: {data['message']}\")\n",
        "        else:\n",
        "             print(\"❓ Could not retrieve weather data for the specified location. Please check the location name.\")\n",
        "\n",
        "\n",
        "def on_temp_chart_button_clicked(b, location_input, days_input, output_area):\n",
        "    \"\"\"\n",
        "    Handles the click event for the \"Show Temperature Chart\" button.\n",
        "    Displays a temperature forecast chart.\n",
        "    \"\"\"\n",
        "    with output_area:\n",
        "        output_area.clear_output()\n",
        "        global _LAST_WEATHER, _LAST_LOCATION, _LAST_FORECAST_DAYS\n",
        "        loc = location_input.value\n",
        "        if not loc:\n",
        "            print(\"⚠️ Please enter a location.\")\n",
        "            return\n",
        "        # Fetch if no data or location changed since last fetch\n",
        "        if not _LAST_WEATHER or _LAST_LOCATION != loc:\n",
        "            print(f\"🔄 Fetching weather data for {loc}...\")\n",
        "            days = 6\n",
        "            data = get_weather_data(loc, forecast_days=days)\n",
        "            _LAST_WEATHER = data\n",
        "            _LAST_LOCATION = loc\n",
        "            _LAST_FORECAST_DAYS = days\n",
        "            if not data or data.get(\"message\"):\n",
        "                print(\"❌ Could not retrieve weather data. Please check location.\")\n",
        "                return\n",
        "\n",
        "        # Check if weather data is available for charting\n",
        "        if not _LAST_WEATHER or not _LAST_WEATHER.get(\"list\"):\n",
        "            print(\"📊 Weather data is not available to create chart. Please fetch weather first.\")\n",
        "            return\n",
        "\n",
        "        # Get the number of days to chart from the input widget\n",
        "        num_days_chart = days_input.value\n",
        "        # Create and display the temperature visualisation\n",
        "        print(\"📈 Displaying temperature chart...\")\n",
        "        create_temperature_visualisation(_LAST_WEATHER, num_days=num_days_chart, output_type='display')\n",
        "\n",
        "\n",
        "def on_precip_chart_button_clicked(b, location_input, days_input, output_area):\n",
        "    \"\"\"\n",
        "    Handles the click event for the \"Show Precipitation Chart\" button.\n",
        "    Displays a precipitation forecast chart.\n",
        "    \"\"\"\n",
        "    with output_area:\n",
        "        output_area.clear_output()\n",
        "        global _LAST_WEATHER, _LAST_LOCATION, _LAST_FORECAST_DAYS\n",
        "        loc = location_input.value\n",
        "        if not loc:\n",
        "            print(\"⚠️ Please enter a location.\")\n",
        "            return\n",
        "        # Fetch if no data or location changed since last fetch\n",
        "        if not _LAST_WEATHER or _LAST_LOCATION != loc:\n",
        "            print(f\"🔄 Fetching weather data for {loc}...\")\n",
        "            days = 6\n",
        "            data = get_weather_data(loc, forecast_days=days)\n",
        "            _LAST_WEATHER = data\n",
        "            _LAST_LOCATION = loc\n",
        "            _LAST_FORECAST_DAYS = days\n",
        "            if not data or data.get(\"message\"):\n",
        "                print(\"❌ Could not retrieve weather data. Please check location.\")\n",
        "                return\n",
        "\n",
        "        # Check if weather data is available for charting\n",
        "        if not _LAST_WEATHER or not _LAST_WEATHER.get(\"list\"):\n",
        "            print(\"📊 Weather data is not available to create chart. Please fetch weather first.\")\n",
        "            return\n",
        "\n",
        "        # Get the number of days to chart from the input widget\n",
        "        num_days_chart = days_input.value\n",
        "        # Create and display the precipitation visualisation\n",
        "        print(\"💧 Displaying precipitation chart...\")\n",
        "        create_precipitation_visualisation(_LAST_WEATHER, num_days=num_days_chart, output_type='display')\n",
        "\n",
        "\n",
        "def on_should_go_outside_button_clicked(b, location_input, output_area):\n",
        "    \"\"\"\n",
        "    Handles the click event for the \"Should we go outside tomorrow?\" button.\n",
        "    Provides advice on whether to go outside based on tomorrow's forecast.\n",
        "    \"\"\"\n",
        "    with output_area:\n",
        "        output_area.clear_output()\n",
        "        global _LAST_WEATHER, _LAST_LOCATION, _LAST_FORECAST_DAYS\n",
        "        loc = location_input.value\n",
        "        if not loc:\n",
        "            print(\"⚠️ Please enter a location.\")\n",
        "            return\n",
        "\n",
        "        # Fetch if no data or location changed since last fetch\n",
        "        if not _LAST_WEATHER or _LAST_LOCATION != loc:\n",
        "            print(f\"🔄 Fetching weather data for {loc}...\")\n",
        "            days = 6\n",
        "            data = get_weather_data(loc, forecast_days=days)\n",
        "            _LAST_WEATHER = data\n",
        "            _LAST_LOCATION = loc\n",
        "            _LAST_FORECAST_DAYS = days\n",
        "            if not data or data.get(\"message\"):\n",
        "                print(\"❌ Could not retrieve weather data. Please check location.\")\n",
        "                return\n",
        "\n",
        "        # Check if sufficient weather data is available for tomorrow's forecast\n",
        "        if not _LAST_WEATHER or not _LAST_WEATHER.get(\"list\") or len(_LAST_WEATHER.get(\"list\", [])) <= 8:\n",
        "            print(\"📊 Weather data is not available for tomorrow's forecast. Please fetch weather first or check if forecast extends to tomorrow.\")\n",
        "            return\n",
        "\n",
        "        # Extract tomorrow's data points (assuming data points 8-15 cover tomorrow in 3-hour intervals)\n",
        "        tomorrow_data_points = _LAST_WEATHER[\"list\"][8:16]\n",
        "        if tomorrow_data_points:\n",
        "            # Calculate average temperature for tomorrow\n",
        "            tomorrow_temps = [item[\"main\"][\"temp\"] for item in tomorrow_data_points]\n",
        "            average_temp_tomorrow = sum(tomorrow_temps) / len(tomorrow_temps) if tomorrow_temps else 0\n",
        "\n",
        "            # Calculate total precipitation for tomorrow\n",
        "            tomorrow_precipitation = sum(item.get(\"rain\", {}).get(\"3h\", 0) + item.get(\"snow\", {}).get(\"3h\", 0) for item in tomorrow_data_points)\n",
        "\n",
        "            # Get wind speed and description for tomorrow (using the first data point for simplicity)\n",
        "            tomorrow_wind_speed = tomorrow_data_points[0][\"wind\"][\"speed\"]\n",
        "            tomorrow_weather_description = tomorrow_data_points[0][\"weather\"][0][\"description\"]\n",
        "\n",
        "            # Extract tomorrow's date\n",
        "            tomorrow_date = tomorrow_data_points[0][\"dt_txt\"].split(\" \")[0]\n",
        "\n",
        "            # Display tomorrow's weather summary\n",
        "            print(f\"📅 Tomorrow's Weather ({tomorrow_date}) for {loc}:\")\n",
        "            print(f\"🌡️ Average Temperature: {average_temp_tomorrow:.2f}°C\")\n",
        "            print(f\"💧 Total Precipitation: {tomorrow_precipitation:.2f} mm\")\n",
        "            print(f\"💨 Wind Speed: {tomorrow_wind_speed:.2f} m/s\")\n",
        "            print(f\"☁️ Conditions: {tomorrow_weather_description}\")\n",
        "\n",
        "            # Provide advice based on tomorrow's weather conditions\n",
        "            print(\"\\n🤔 Should we go outside tomorrow?\")\n",
        "            if tomorrow_precipitation > 0.5:\n",
        "                print(\"🌧️ Advice: It looks like there will be significant rain tomorrow. It might be best to stay inside or be prepared for wet conditions.\")\n",
        "            elif average_temp_tomorrow < 10:\n",
        "                 print(\"🥶 Advice: It will be quite cold tomorrow. Bundle up if you go outside!\")\n",
        "            elif average_temp_tomorrow > 30:\n",
        "                 print(\"🥵 Advice: It will be quite hot tomorrow. Stay hydrated and seek shade if you go outside.\")\n",
        "            else:\n",
        "                print(\"👍 Advice: The weather looks good for going outside tomorrow!\")\n",
        "\n",
        "        else:\n",
        "            print(\"😔 Could not retrieve detailed forecast data for tomorrow.\")\n",
        "\n",
        "\n",
        "def on_ask_question_button_clicked(b, location_input, question_input, output_area):\n",
        "    \"\"\"\n",
        "    Handles the click event for the \"Ask Weather Question\" button.\n",
        "    Parses the user's question and generates an AI response.\n",
        "    \"\"\"\n",
        "    with output_area:\n",
        "        output_area.clear_output()\n",
        "        global _LAST_WEATHER, _LAST_LOCATION\n",
        "        question = question_input.value\n",
        "        loc = location_input.value\n",
        "\n",
        "        if not loc:\n",
        "            print(\"⚠️ Please enter a location.\")\n",
        "            return\n",
        "\n",
        "        if not question:\n",
        "            print(\"❓ Please enter a question.\")\n",
        "            return\n",
        "\n",
        "        # Fetch weather data if none is available or location has changed\n",
        "        if not _LAST_WEATHER or _LAST_LOCATION != loc:\n",
        "            print(f\"🔄 Fetching weather data for {loc} before answering...\")\n",
        "            days = 6\n",
        "            data = get_weather_data(loc, forecast_days=days)\n",
        "            _LAST_WEATHER = data\n",
        "            _LAST_LOCATION = loc\n",
        "            _LAST_FORECAST_DAYS = days\n",
        "            if not data or data.get(\"message\"):\n",
        "                print(\"❌ Could not retrieve weather data. Cannot answer question.\")\n",
        "                return\n",
        "\n",
        "        print(\"🤖 Asking AI...\")\n",
        "        # Parse the user's question\n",
        "        parsed_question = parse_weather_question(question)\n",
        "        # Generate AI response using the parsed question and weather data\n",
        "        ai_response = generate_weather_response(parsed_question, _LAST_WEATHER)\n",
        "        print(\"\\n✨ AI Response: ✨\")\n",
        "        print(ai_response)\n",
        "\n",
        "\n",
        "def on_quit_button_clicked(b, output_area):\n",
        "    \"\"\"\n",
        "    Handles the click event for the \"Quit\" button.\n",
        "    Clears the output and prints a goodbye message.\n",
        "    \"\"\"\n",
        "    with output_area:\n",
        "        output_area.clear_output()\n",
        "        print(\"👋 Goodbye!\")\n",
        "        # In a real application, you might want to stop execution here\n",
        "        # For a notebook, simply printing a message is sufficient\n",
        "\n",
        "\n",
        "# --- Main UI Function ---\n",
        "\n",
        "def create_weather_ui():\n",
        "    \"\"\"\n",
        "    Creates and returns the WeatherWise user interface using ipywidgets.\n",
        "    Organizes input fields, buttons, and output area.\n",
        "    Links button click events to their respective handler functions.\n",
        "    \"\"\"\n",
        "    # Create input widgets\n",
        "    location_input = widgets.Text(\n",
        "        value=_LAST_LOCATION if _LAST_LOCATION else '',\n",
        "        placeholder='e.g., Paris, Tokyo, Sydney',\n",
        "        description='📍 Location:',\n",
        "        disabled=False\n",
        "    )\n",
        "\n",
        "    days_input = widgets.IntText(\n",
        "        value=_LAST_FORECAST_DAYS,\n",
        "        description='📅 Forecast Days (1-6):',\n",
        "        disabled=False,\n",
        "        min=1,\n",
        "        max=6,\n",
        "        layout=widgets.Layout(description_width='250 px')\n",
        "    )\n",
        "\n",
        "    question_input = widgets.Text(\n",
        "        value='',\n",
        "        placeholder='e.g., What is the temperature tomorrow?',\n",
        "        description='❓ Ask AI a Question:',\n",
        "        disabled=False\n",
        "    )\n",
        "\n",
        "    # Create action buttons\n",
        "    button_layout = widgets.Layout(width='250px')\n",
        "\n",
        "    fetch_button = widgets.Button(description=\"☀️ Fetch Today's Weather\", layout=button_layout)\n",
        "    temp_chart_button = widgets.Button(description=\"📈 Show Temperature Chart\", layout=button_layout)\n",
        "    precip_chart_button = widgets.Button(description=\"💧 Show Precipitation Chart\", layout=button_layout)\n",
        "    should_go_outside_button = widgets.Button(description=\"🏃‍♀️ Should We Go Outside Tomorrow?\", layout=button_layout)\n",
        "    ask_question_button = widgets.Button(description=\"🤖 Ask Weather Question\", layout=button_layout)\n",
        "    quit_button = widgets.Button(description=\"👋 Quit\", layout=button_layout)\n",
        "\n",
        "    # Create an output widget to display results\n",
        "    output_area = widgets.Output()\n",
        "\n",
        "    # Arrange widgets in a layout\n",
        "    input_widgets = widgets.VBox([location_input, days_input, question_input])\n",
        "    button_widgets = widgets.VBox([fetch_button, temp_chart_button, precip_chart_button, should_go_outside_button, ask_question_button, quit_button])\n",
        "\n",
        "    ui = widgets.VBox([\n",
        "        widgets.Label(\"Hello! I'm your WeatherWise assistant, ready to provide weather insights. Let's get started!\"),\n",
        "        input_widgets,\n",
        "        button_widgets,\n",
        "        output_area\n",
        "    ])\n",
        "\n",
        "    # Link buttons to handlers, passing necessary widgets\n",
        "    # Using lambda to pass additional arguments to the handler functions\n",
        "    fetch_button.on_click(lambda b: on_fetch_button_clicked(b, location_input, days_input, output_area))\n",
        "    temp_chart_button.on_click(lambda b: on_temp_chart_button_clicked(b, location_input, days_input, output_area))\n",
        "    precip_chart_button.on_click(lambda b: on_precip_chart_button_clicked(b, location_input, days_input, output_area))\n",
        "    should_go_outside_button.on_click(lambda b: on_should_go_outside_button_clicked(b, location_input, output_area))\n",
        "    ask_question_button.on_click(lambda b: on_ask_question_button_clicked(b, location_input, question_input, output_area))\n",
        "    quit_button.on_click(lambda b: on_quit_button_clicked(b, output_area))\n",
        "\n",
        "    return ui"
      ]
    },
    {
      "cell_type": "markdown",
      "id": "d643a53c",
      "metadata": {
        "id": "d643a53c"
      },
      "source": [
        "## 🧩 Main Application Logic"
      ]
    },
    {
      "cell_type": "code",
      "execution_count": 28,
      "id": "a9e2e805",
      "metadata": {
        "id": "a9e2e805"
      },
      "outputs": [],
      "source": [
        "# Tie everything together here\n",
        "\n",
        "def generate_weather_response(parsed_question: Dict[str, Any], weather_data: Dict[str, Any]) -> str:\n",
        "    \"\"\"\n",
        "    Generate a natural language response to a weather question based on provided weather data.\n",
        "\n",
        "    Args:\n",
        "        parsed_question (dict): Parsed question data (includes question string, location, time_period, weather_attribute).\n",
        "        weather_data (dict): Weather data.\n",
        "\n",
        "    Returns:\n",
        "        str: Natural language response.\n",
        "    \"\"\"\n",
        "    question = parsed_question.get(\"question\", \"\")\n",
        "    location = parsed_question.get(\"location\")\n",
        "    time_period = parsed_question.get(\"time_period\")\n",
        "    weather_attribute = parsed_question.get(\"weather_attribute\")\n",
        "\n",
        "    if not question:\n",
        "        return \"No question provided.\"\n",
        "\n",
        "    # --- Prepare weather context for the AI ---\n",
        "    weather_context = \"Weather information:\"\n",
        "\n",
        "    if not weather_data or not weather_data.get(\"list\"):\n",
        "        weather_context += \" Weather data not available.\"\n",
        "    else:\n",
        "        # Add current weather info\n",
        "        current = weather_data[\"list\"][0]\n",
        "        weather_context += f\" Current: Temp: {current['main']['temp']:.1f}°C, Conditions: {current['weather'][0]['description']}, Humidity: {current['main']['humidity']}%, Wind: {current['wind']['speed']} m/s.\"\n",
        "\n",
        "        # Add forecast data if available and relevant to the time period\n",
        "        if time_period and len(weather_data.get(\"list\", [])) > 8:\n",
        "            if time_period == \"tomorrow\":\n",
        "                tomorrow_data_points = weather_data[\"list\"][8:16] # Assuming data points 8-15 cover tomorrow\n",
        "                if tomorrow_data_points:\n",
        "                    tomorrow_date = tomorrow_data_points[0][\"dt_txt\"].split(\" \")[0]\n",
        "                    tomorrow_temps = [item[\"main\"][\"temp\"] for item in tomorrow_data_points]\n",
        "                    average_temp_tomorrow = sum(tomorrow_temps) / len(tomorrow_temps) if tomorrow_temps else 0\n",
        "                    tomorrow_precipitation = sum(item.get(\"rain\", {}).get(\"3h\", 0) + item.get(\"snow\", {}).get(\"3h\", 0) for item in tomorrow_data_points)\n",
        "                    tomorrow_weather_description = tomorrow_data_points[0][\"weather\"][0][\"description\"]\n",
        "                    weather_context += f\" Tomorrow ({tomorrow_date}): Average Temp: {average_temp_tomorrow:.2f}°C, Precipitation: {tomorrow_precipitation:.2f} mm, Conditions: {tomorrow_weather_description}.\"\n",
        "            elif time_period.startswith(\"next\"):\n",
        "                 # For \"next X days\", add a brief summary or just mention forecast is available\n",
        "                 num_days_str = time_period.split(\" \")[1] if len(time_period.split(\" \")) > 1 else \"few\"\n",
        "                 weather_context += f\" Forecast for the next {num_days_str} days is available.\"\n",
        "\n",
        "\n",
        "    # --- Construct the prompt for the AI ---\n",
        "    # Build a more specific question for the AI using parsed info if available\n",
        "    ai_prompt = f\"{weather_context}\\n\"\n",
        "\n",
        "    if location:\n",
        "        ai_prompt += f\"Regarding the weather in {location}, \"\n",
        "    if time_period:\n",
        "         ai_prompt += f\"for the period {time_period}, \"\n",
        "    if weather_attribute:\n",
        "         ai_prompt += f\"focusing on the {weather_attribute}, \"\n",
        "\n",
        "    ai_prompt += f\"please answer the following question: {question}\"\n",
        "\n",
        "\n",
        "    # --- Get response from the AI ---\n",
        "    try:\n",
        "        ai_response = get_response(ai_prompt)\n",
        "        return ai_response\n",
        "    except Exception as e:\n",
        "        return f\"Error getting AI response: {e}\""
      ]
    },
    {
      "cell_type": "markdown",
      "id": "fde44479",
      "metadata": {
        "id": "fde44479"
      },
      "source": [
        "## 🧪 Testing and Examples"
      ]
    },
    {
      "cell_type": "code",
      "source": [
        "# Include sample input/output for each function\n",
        "#Testing Weather Data Functions"
      ],
      "metadata": {
        "id": "bIvIUPu7bjrx"
      },
      "id": "bIvIUPu7bjrx",
      "execution_count": 29,
      "outputs": []
    },
    {
      "cell_type": "code",
      "metadata": {
        "colab": {
          "base_uri": "https://localhost:8080/",
          "height": 460
        },
        "id": "f48b4ee4",
        "outputId": "51a13d09-52ca-4ad4-8ccb-59750c74ca17"
      },
      "source": [
        "# Test openWeather_getWeather\n",
        "print(\"Testing openWeather_getWeather...\")\n",
        "sample_city = \"London\"\n",
        "weather_raw_data = openWeather_getWeather(city=sample_city)\n",
        "\n",
        "if weather_raw_data:\n",
        "    print(f\"Successfully fetched raw weather data for {sample_city}. Data structure preview:\")\n",
        "    # Display a part of the raw data to show it was fetched\n",
        "    display(list(weather_raw_data.keys()))\n",
        "    if weather_raw_data.get(\"list\"):\n",
        "        print(\"First item in 'list':\")\n",
        "        display(weather_raw_data[\"list\"][0])\n",
        "else:\n",
        "    print(f\"Failed to fetch raw weather data for {sample_city}.\")"
      ],
      "id": "f48b4ee4",
      "execution_count": 30,
      "outputs": [
        {
          "output_type": "stream",
          "name": "stdout",
          "text": [
            "Testing openWeather_getWeather...\n",
            "Successfully fetched raw weather data for London. Data structure preview:\n"
          ]
        },
        {
          "output_type": "display_data",
          "data": {
            "text/plain": [
              "['cod', 'message', 'cnt', 'list', 'city']"
            ]
          },
          "metadata": {}
        },
        {
          "output_type": "stream",
          "name": "stdout",
          "text": [
            "First item in 'list':\n"
          ]
        },
        {
          "output_type": "display_data",
          "data": {
            "text/plain": [
              "{'dt': 1760810400,\n",
              " 'main': {'temp': 12.97,\n",
              "  'feels_like': 12.15,\n",
              "  'temp_min': 12.97,\n",
              "  'temp_max': 13.05,\n",
              "  'pressure': 1020,\n",
              "  'sea_level': 1020,\n",
              "  'grnd_level': 1016,\n",
              "  'humidity': 70,\n",
              "  'temp_kf': -0.08},\n",
              " 'weather': [{'id': 804,\n",
              "   'main': 'Clouds',\n",
              "   'description': 'overcast clouds',\n",
              "   'icon': '04n'}],\n",
              " 'clouds': {'all': 100},\n",
              " 'wind': {'speed': 2.57, 'deg': 130, 'gust': 7.5},\n",
              " 'visibility': 10000,\n",
              " 'pop': 0,\n",
              " 'sys': {'pod': 'n'},\n",
              " 'dt_txt': '2025-10-18 18:00:00'}"
            ]
          },
          "metadata": {}
        }
      ]
    },
    {
      "cell_type": "code",
      "metadata": {
        "colab": {
          "base_uri": "https://localhost:8080/",
          "height": 183
        },
        "id": "c674a85d",
        "outputId": "7636a42b-b848-42a6-804e-b8cbd8d451a6"
      },
      "source": [
        "# Test get_temps (requires raw weather data from openWeather_getWeather)\n",
        "print(\"\\nTesting get_temps...\")\n",
        "if 'weather_raw_data' in locals() and weather_raw_data and weather_raw_data.get(\"list\"):\n",
        "    daily_temperatures = get_temps(weather_raw_data)\n",
        "    print(\"Successfully extracted daily temperatures. Preview:\")\n",
        "    display(daily_temperatures)\n",
        "else:\n",
        "    print(\"Skipping get_temps test as raw weather data is not available or not fetched.\")"
      ],
      "id": "c674a85d",
      "execution_count": 31,
      "outputs": [
        {
          "output_type": "stream",
          "name": "stdout",
          "text": [
            "\n",
            "Testing get_temps...\n",
            "Successfully extracted daily temperatures. Preview:\n"
          ]
        },
        {
          "output_type": "display_data",
          "data": {
            "text/plain": [
              "{'2025-10-18': [12.97, 13.04],\n",
              " '2025-10-19': [13.47, 13.45, 14.07, 14.03, 13.27, 13.22, 13.4, 14.64],\n",
              " '2025-10-20': [12.82, 12.88, 12.9, 12.83, 13.69, 13.12, 13.16, 12.89],\n",
              " '2025-10-21': [12.18, 11.22, 11.83, 12.12, 12.63, 13.06, 12.88, 11.62],\n",
              " '2025-10-22': [10.63, 9.9, 9.48, 11.59, 12.44, 12.47, 12.21, 14.72],\n",
              " '2025-10-23': [15.98, 16.42, 16.46, 16.35, 16.63, 15.91]}"
            ]
          },
          "metadata": {}
        }
      ]
    },
    {
      "cell_type": "code",
      "metadata": {
        "colab": {
          "base_uri": "https://localhost:8080/",
          "height": 478
        },
        "id": "69a55753",
        "outputId": "abb5318b-6d14-4fe0-b6f4-3b3bc00342fa"
      },
      "source": [
        "# Test get_weather_data (which uses openWeather_getWeather internally)\n",
        "print(\"\\nTesting get_weather_data...\")\n",
        "sample_city_2 = \"Tokyo\"\n",
        "sample_days = 3\n",
        "weather_processed_data = get_weather_data(city=sample_city_2, forecast_days=sample_days)\n",
        "\n",
        "if weather_processed_data:\n",
        "    print(f\"Successfully fetched and processed weather data for {sample_city_2} for {sample_days} days. Data structure preview:\")\n",
        "    # Display the processed data (which is the same as raw data from openWeather_getWeather in this case)\n",
        "    display(list(weather_processed_data.keys()))\n",
        "    if weather_processed_data.get(\"list\"):\n",
        "         print(\"First item in 'list':\")\n",
        "         display(weather_processed_data[\"list\"][0])\n",
        "else:\n",
        "    print(f\"Failed to fetch weather data for {sample_city_2}.\")"
      ],
      "id": "69a55753",
      "execution_count": 32,
      "outputs": [
        {
          "output_type": "stream",
          "name": "stdout",
          "text": [
            "\n",
            "Testing get_weather_data...\n",
            "Successfully fetched and processed weather data for Tokyo for 3 days. Data structure preview:\n"
          ]
        },
        {
          "output_type": "display_data",
          "data": {
            "text/plain": [
              "['cod', 'message', 'cnt', 'list', 'city']"
            ]
          },
          "metadata": {}
        },
        {
          "output_type": "stream",
          "name": "stdout",
          "text": [
            "First item in 'list':\n"
          ]
        },
        {
          "output_type": "display_data",
          "data": {
            "text/plain": [
              "{'dt': 1760810400,\n",
              " 'main': {'temp': 20.78,\n",
              "  'feels_like': 20.85,\n",
              "  'temp_min': 20.78,\n",
              "  'temp_max': 22.83,\n",
              "  'pressure': 1016,\n",
              "  'sea_level': 1016,\n",
              "  'grnd_level': 1014,\n",
              "  'humidity': 74,\n",
              "  'temp_kf': -2.05},\n",
              " 'weather': [{'id': 803,\n",
              "   'main': 'Clouds',\n",
              "   'description': 'broken clouds',\n",
              "   'icon': '04n'}],\n",
              " 'clouds': {'all': 75},\n",
              " 'wind': {'speed': 3.15, 'deg': 339, 'gust': 6.77},\n",
              " 'visibility': 10000,\n",
              " 'pop': 0,\n",
              " 'sys': {'pod': 'n'},\n",
              " 'dt_txt': '2025-10-18 18:00:00'}"
            ]
          },
          "metadata": {}
        }
      ]
    },
    {
      "cell_type": "code",
      "metadata": {
        "colab": {
          "base_uri": "https://localhost:8080/",
          "height": 1000
        },
        "id": "bf83fde3",
        "outputId": "63302ad1-bb12-491e-cf95-df50f0670788"
      },
      "source": [
        "# Test create_temperature_visualisation\n",
        "print(\"\\nTesting create_temperature_visualisation...\")\n",
        "# We need weather data to test the visualization, using the data fetched for Tokyo earlier\n",
        "if 'weather_processed_data' in locals() and weather_processed_data and weather_processed_data.get(\"list\"):\n",
        "    print(\"Creating temperature chart for 5 days...\")\n",
        "    create_temperature_visualisation(weather_processed_data, num_days=5, output_type='display')\n",
        "\n",
        "    print(\"\\nCreating temperature chart for 3 days...\")\n",
        "    create_temperature_visualisation(weather_processed_data, num_days=3, output_type='display')\n",
        "else:\n",
        "    print(\"Skipping temperature visualisation test as weather data is not available or not fetched.\")"
      ],
      "id": "bf83fde3",
      "execution_count": 33,
      "outputs": [
        {
          "output_type": "stream",
          "name": "stdout",
          "text": [
            "\n",
            "Testing create_temperature_visualisation...\n",
            "Creating temperature chart for 5 days...\n"
          ]
        },
        {
          "output_type": "display_data",
          "data": {
            "text/plain": [
              "<Figure size 640x480 with 1 Axes>"
            ],
            "image/png": "[encoded data removed]"
          },
          "metadata": {}
        },
        {
          "output_type": "stream",
          "name": "stdout",
          "text": [
            "\n",
            "Creating temperature chart for 3 days...\n"
          ]
        },
        {
          "output_type": "display_data",
          "data": {
            "text/plain": [
              "<Figure size 640x480 with 1 Axes>"
            ],
            "image/png": "[encoded data removed]"
          },
          "metadata": {}
        }
      ]
    },
    {
      "cell_type": "code",
      "metadata": {
        "colab": {
          "base_uri": "https://localhost:8080/",
          "height": 1000
        },
        "id": "28ee1b1a",
        "outputId": "43575ec4-5543-42e4-ef23-093ae079cab6"
      },
      "source": [
        "# Test create_precipitation_visualisation\n",
        "print(\"\\nTesting create_precipitation_visualisation...\")\n",
        "# We need weather data to test the visualization, using the data fetched for Tokyo earlier\n",
        "if 'weather_processed_data' in locals() and weather_processed_data and weather_processed_data.get(\"list\"):\n",
        "    print(\"Creating precipitation chart for 5 days...\")\n",
        "    create_precipitation_visualisation(weather_processed_data, num_days=5, output_type='display')\n",
        "\n",
        "    print(\"\\nCreating precipitation chart for 3 days...\")\n",
        "    create_precipitation_visualisation(weather_processed_data, num_days=3, output_type='display')\n",
        "else:\n",
        "    print(\"Skipping precipitation visualisation test as weather data is not available or not fetched.\")"
      ],
      "id": "28ee1b1a",
      "execution_count": 34,
      "outputs": [
        {
          "output_type": "stream",
          "name": "stdout",
          "text": [
            "\n",
            "Testing create_precipitation_visualisation...\n",
            "Creating precipitation chart for 5 days...\n"
          ]
        },
        {
          "output_type": "display_data",
          "data": {
            "text/plain": [
              "<Figure size 640x480 with 1 Axes>"
            ],
            "image/png": "[encoded data removed]"
          },
          "metadata": {}
        },
        {
          "output_type": "stream",
          "name": "stdout",
          "text": [
            "\n",
            "Creating precipitation chart for 3 days...\n"
          ]
        },
        {
          "output_type": "display_data",
          "data": {
            "text/plain": [
              "<Figure size 640x480 with 1 Axes>"
            ],
            "image/png": "[encoded data removed]"
          },
          "metadata": {}
        }
      ]
    },
    {
      "cell_type": "code",
      "source": [
        "# Test parse_weather_question\n",
        "print(\"\\nTesting parse_weather_question...\")\n",
        "\n",
        "sample_question_1 = \"What is the temperature in New York tomorrow?\"\n",
        "parsed_output_1 = parse_weather_question(sample_question_1)\n",
        "print(f\"Question: '{sample_question_1}'\")\n",
        "print(\"Parsed Output:\")\n",
        "display(parsed_output_1)\n",
        "\n",
        "sample_question_2 = \"Is it going to rain in London next 3 days?\"\n",
        "parsed_output_2 = parse_weather_question(sample_question_2)\n",
        "print(f\"\\nQuestion: '{sample_question_2}'\")\n",
        "print(\"Parsed Output:\")\n",
        "display(parsed_output_2)\n",
        "\n",
        "sample_question_3 = \"Tell me about the wind in Tokyo today.\"\n",
        "parsed_output_3 = parse_weather_question(sample_question_3)\n",
        "print(f\"\\nQuestion: '{sample_question_3}'\")\n",
        "print(\"Parsed Output:\")\n",
        "display(parsed_output_3)\n",
        "\n",
        "sample_question_4 = \"What's the weather like?\"\n",
        "parsed_output_4 = parse_weather_question(sample_question_4)\n",
        "print(f\"\\nQuestion: '{sample_question_4}'\")\n",
        "print(\"Parsed Output:\")\n",
        "display(parsed_output_4)"
      ],
      "metadata": {
        "id": "ZLlPoL5feC53",
        "colab": {
          "base_uri": "https://localhost:8080/",
          "height": 552
        },
        "outputId": "99f1a21e-2acb-4f46-a07c-2049ab5ad49f"
      },
      "id": "ZLlPoL5feC53",
      "execution_count": 35,
      "outputs": [
        {
          "output_type": "stream",
          "name": "stdout",
          "text": [
            "\n",
            "Testing parse_weather_question...\n",
            "Question: 'What is the temperature in New York tomorrow?'\n",
            "Parsed Output:\n"
          ]
        },
        {
          "output_type": "display_data",
          "data": {
            "text/plain": [
              "{'question': 'What is the temperature in New York tomorrow?',\n",
              " 'location': 'What',\n",
              " 'time_period': 'tomorrow',\n",
              " 'weather_attribute': 'temperature'}"
            ]
          },
          "metadata": {}
        },
        {
          "output_type": "stream",
          "name": "stdout",
          "text": [
            "\n",
            "Question: 'Is it going to rain in London next 3 days?'\n",
            "Parsed Output:\n"
          ]
        },
        {
          "output_type": "display_data",
          "data": {
            "text/plain": [
              "{'question': 'Is it going to rain in London next 3 days?',\n",
              " 'location': 'Is',\n",
              " 'time_period': 'next 3 days',\n",
              " 'weather_attribute': 'precipitation'}"
            ]
          },
          "metadata": {}
        },
        {
          "output_type": "stream",
          "name": "stdout",
          "text": [
            "\n",
            "Question: 'Tell me about the wind in Tokyo today.'\n",
            "Parsed Output:\n"
          ]
        },
        {
          "output_type": "display_data",
          "data": {
            "text/plain": [
              "{'question': 'Tell me about the wind in Tokyo today.',\n",
              " 'location': 'Tell',\n",
              " 'time_period': 'today',\n",
              " 'weather_attribute': 'wind'}"
            ]
          },
          "metadata": {}
        },
        {
          "output_type": "stream",
          "name": "stdout",
          "text": [
            "\n",
            "Question: 'What's the weather like?'\n",
            "Parsed Output:\n"
          ]
        },
        {
          "output_type": "display_data",
          "data": {
            "text/plain": [
              "{'question': \"What's the weather like?\",\n",
              " 'location': \"What's\",\n",
              " 'time_period': None,\n",
              " 'weather_attribute': None}"
            ]
          },
          "metadata": {}
        }
      ]
    },
    {
      "cell_type": "code",
      "source": [
        "# Test generate_weather_response\n",
        "print(\"\\nTesting generate_weather_response...\")\n",
        "\n",
        "# We need weather data and a parsed question to test this function\n",
        "\n",
        "# Ensure weather_processed_data is available from previous tests or fetch it\n",
        "if 'weather_processed_data' not in locals() or not weather_processed_data:\n",
        "    print(\"Fetching weather data for generate_weather_response test...\")\n",
        "    sample_city_for_ai = \"Sydney\"\n",
        "    weather_processed_data = get_weather_data(city=sample_city_for_ai, forecast_days=6) # Fetch enough data for tomorrow's forecast\n",
        "\n",
        "if weather_processed_data and weather_processed_data.get(\"list\"):\n",
        "    # Create a sample parsed question dictionary\n",
        "    sample_parsed_question = {\n",
        "        \"question\": \"What is the temperature like today?\",\n",
        "        \"location\": \"Sydney\", # Assuming Sydney data was fetched or is available\n",
        "        \"time_period\": \"today\",\n",
        "        \"weather_attribute\": \"temperature\"\n",
        "    }\n",
        "\n",
        "    print(f\"Using sample parsed question: {sample_parsed_question}\")\n",
        "\n",
        "    # Generate the AI response\n",
        "    ai_response_output = generate_weather_response(sample_parsed_question, weather_processed_data)\n",
        "\n",
        "    print(\"\\nGenerated AI Response:\")\n",
        "    print(ai_response_output)\n",
        "\n",
        "    # Test with a different question\n",
        "    sample_parsed_question_2 = {\n",
        "        \"question\": \"Is it going to rain tomorrow?\",\n",
        "        \"location\": \"Sydney\",\n",
        "        \"time_period\": \"tomorrow\",\n",
        "        \"weather_attribute\": \"precipitation\"\n",
        "    }\n",
        "    print(f\"\\nUsing sample parsed question: {sample_parsed_question_2}\")\n",
        "    ai_response_output_2 = generate_weather_response(sample_parsed_question_2, weather_processed_data)\n",
        "    print(\"\\nGenerated AI Response:\")\n",
        "    print(ai_response_output_2)\n",
        "\n",
        "\n",
        "else:\n",
        "    print(\"Skipping generate_weather_response test as weather data is not available.\")"
      ],
      "metadata": {
        "colab": {
          "base_uri": "https://localhost:8080/"
        },
        "id": "oduLi7v5e6K8",
        "outputId": "6ac70ee1-d962-4227-8da1-917c74d2e927"
      },
      "id": "oduLi7v5e6K8",
      "execution_count": 36,
      "outputs": [
        {
          "output_type": "stream",
          "name": "stdout",
          "text": [
            "\n",
            "Testing generate_weather_response...\n",
            "Using sample parsed question: {'question': 'What is the temperature like today?', 'location': 'Sydney', 'time_period': 'today', 'weather_attribute': 'temperature'}\n",
            "\n",
            "Generated AI Response:\n",
            "The temperature in Sydney today is 20.8°C.\n",
            "\n",
            "Using sample parsed question: {'question': 'Is it going to rain tomorrow?', 'location': 'Sydney', 'time_period': 'tomorrow', 'weather_attribute': 'precipitation'}\n",
            "\n",
            "Generated AI Response:\n",
            "Yes, according to the forecasted weather information provided, tomorrow (2025-10-19) is expected to be a rainy day, with a heavy intensity of rain. The precipitation forecast for that day indicates 21.41 mm.\n"
          ]
        }
      ]
    },
    {
      "cell_type": "markdown",
      "source": [
        "## ✨ Display UI"
      ],
      "metadata": {
        "id": "7ze9QxRsbPg6"
      },
      "id": "7ze9QxRsbPg6"
    },
    {
      "cell_type": "code",
      "execution_count": null,
      "id": "4e573901",
      "metadata": {
        "id": "4e573901"
      },
      "outputs": [],
      "source": [
        "\n",
        "# Display the UI\n",
        "weather_ui = create_weather_ui()\n",
        "display(weather_ui)"
      ]
    },
    {
      "cell_type": "markdown",
      "id": "d2885880",
      "metadata": {
        "id": "d2885880"
      },
      "source": [
        "## 🗂️ AI Prompting Log\n",
        "AI prompting technique [link text](https://github.com/jojowaranyucareer-ctrl/Weatherwise_Waranyu.B/blob/main/PROMPTING.md)\n",
        "\n",
        "All AI conversation [link text](https://github.com/jojowaranyucareer-ctrl/Weatherwise_Waranyu.B/tree/main/ai-conversations)\n",
        "\n",
        "[link text](https://)"
      ]
    }
  ],
  "metadata": {
    "language_info": {
      "name": "python"
    },
    "colab": {
      "provenance": [],
      "include_colab_link": true
    },
    "kernelspec": {
      "name": "python3",
      "display_name": "Python 3"
    }
  },
  "nbformat": 4,
  "nbformat_minor": 5
}